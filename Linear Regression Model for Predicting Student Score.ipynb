{
 "cells": [
  {
   "cell_type": "markdown",
   "id": "00574f9b",
   "metadata": {},
   "source": [
    "<h1 style='text-align: center;'> Abdelrahman Mohamed Mostafa </h1>"
   ]
  },
  {
   "cell_type": "markdown",
   "id": "723b0ab0",
   "metadata": {},
   "source": [
    "# Project objective\n",
    "The objective of this project is to predict the percentage of marks that a student is expected to score based upon the number of hours they studied.\n",
    "\n",
    "\n",
    "## Linear Regression Model Using Scikit Learn\n",
    "In this project I will use scikit-learn library to build a simple linear regression model\n"
   ]
  },
  {
   "cell_type": "markdown",
   "id": "07459aa7",
   "metadata": {},
   "source": [
    "1. [Prepare Data](#1.-Prepare-Data)     \n",
    "    1.1 [Import](#1.1-Import)       \n",
    "    1.2 [Explore](#1.2-Explore)               \n",
    "    1.3 [Split](#1.3-Split)\n",
    "2. [Build Model](#2.-Build-Model)    \n",
    "    2.1 [Iterate](#2.1-Iterate)            \n",
    "    2.2 [Evaluate](#2.2-Evaluate)\n",
    "3. [Communicate Results](#3.-Communicate-Results)             \n",
    "4. [Predicting student score if student studied 9.25 hours/day](#4.-Predicting-student-score-if-student-studied-9.25-hours/day)            \n",
    " "
   ]
  },
  {
   "cell_type": "code",
   "execution_count": 1,
   "id": "42ab14d7",
   "metadata": {},
   "outputs": [],
   "source": [
    "# Importing all libraries needed \n",
    "import pandas as pd\n",
    "import numpy as np\n",
    "import matplotlib.pyplot as plt\n",
    "%matplotlib inline\n",
    "\n",
    "from sklearn.model_selection import train_test_split\n",
    "from sklearn.linear_model import LinearRegression \n",
    "from sklearn import metrics"
   ]
  },
  {
   "cell_type": "markdown",
   "id": "766c6a9c",
   "metadata": {},
   "source": [
    "# 1. Prepare Data"
   ]
  },
  {
   "cell_type": "markdown",
   "id": "13ba03ed",
   "metadata": {},
   "source": [
    "## 1.1 Import"
   ]
  },
  {
   "cell_type": "code",
   "execution_count": 2,
   "id": "e66a2c45",
   "metadata": {},
   "outputs": [
    {
     "data": {
      "text/html": [
       "<div>\n",
       "<style scoped>\n",
       "    .dataframe tbody tr th:only-of-type {\n",
       "        vertical-align: middle;\n",
       "    }\n",
       "\n",
       "    .dataframe tbody tr th {\n",
       "        vertical-align: top;\n",
       "    }\n",
       "\n",
       "    .dataframe thead th {\n",
       "        text-align: right;\n",
       "    }\n",
       "</style>\n",
       "<table border=\"1\" class=\"dataframe\">\n",
       "  <thead>\n",
       "    <tr style=\"text-align: right;\">\n",
       "      <th></th>\n",
       "      <th>Hours</th>\n",
       "      <th>Scores</th>\n",
       "    </tr>\n",
       "  </thead>\n",
       "  <tbody>\n",
       "    <tr>\n",
       "      <th>0</th>\n",
       "      <td>2.5</td>\n",
       "      <td>21</td>\n",
       "    </tr>\n",
       "    <tr>\n",
       "      <th>1</th>\n",
       "      <td>5.1</td>\n",
       "      <td>47</td>\n",
       "    </tr>\n",
       "    <tr>\n",
       "      <th>2</th>\n",
       "      <td>3.2</td>\n",
       "      <td>27</td>\n",
       "    </tr>\n",
       "    <tr>\n",
       "      <th>3</th>\n",
       "      <td>8.5</td>\n",
       "      <td>75</td>\n",
       "    </tr>\n",
       "    <tr>\n",
       "      <th>4</th>\n",
       "      <td>3.5</td>\n",
       "      <td>30</td>\n",
       "    </tr>\n",
       "  </tbody>\n",
       "</table>\n",
       "</div>"
      ],
      "text/plain": [
       "   Hours  Scores\n",
       "0    2.5      21\n",
       "1    5.1      47\n",
       "2    3.2      27\n",
       "3    8.5      75\n",
       "4    3.5      30"
      ]
     },
     "execution_count": 2,
     "metadata": {},
     "output_type": "execute_result"
    }
   ],
   "source": [
    "# Importing the CSV file into a dataframe\n",
    "df = pd.read_csv(\"student_scores - student_scores.csv\")\n",
    "df.head()"
   ]
  },
  {
   "cell_type": "markdown",
   "id": "fecf48c3",
   "metadata": {},
   "source": [
    "## 1.2 Explore"
   ]
  },
  {
   "cell_type": "markdown",
   "id": "b20a995b",
   "metadata": {},
   "source": [
    "### **Checking the data for appropriate data types, missing values and duplicated values**"
   ]
  },
  {
   "cell_type": "code",
   "execution_count": 3,
   "id": "c848281a",
   "metadata": {},
   "outputs": [
    {
     "name": "stdout",
     "output_type": "stream",
     "text": [
      "<class 'pandas.core.frame.DataFrame'>\n",
      "RangeIndex: 25 entries, 0 to 24\n",
      "Data columns (total 2 columns):\n",
      " #   Column  Non-Null Count  Dtype  \n",
      "---  ------  --------------  -----  \n",
      " 0   Hours   25 non-null     float64\n",
      " 1   Scores  25 non-null     int64  \n",
      "dtypes: float64(1), int64(1)\n",
      "memory usage: 528.0 bytes\n"
     ]
    }
   ],
   "source": [
    "# Checking the overall data information \n",
    "df.info()"
   ]
  },
  {
   "cell_type": "code",
   "execution_count": 4,
   "id": "b86ced17",
   "metadata": {},
   "outputs": [
    {
     "data": {
      "text/plain": [
       "Hours     0\n",
       "Scores    0\n",
       "dtype: int64"
      ]
     },
     "execution_count": 4,
     "metadata": {},
     "output_type": "execute_result"
    }
   ],
   "source": [
    "# Checking for missing values\n",
    "df.isnull().sum()"
   ]
  },
  {
   "cell_type": "code",
   "execution_count": 5,
   "id": "c2a0b839",
   "metadata": {},
   "outputs": [
    {
     "data": {
      "text/plain": [
       "0"
      ]
     },
     "execution_count": 5,
     "metadata": {},
     "output_type": "execute_result"
    }
   ],
   "source": [
    "# Checking for duplicated rows\n",
    "df.duplicated().sum()"
   ]
  },
  {
   "cell_type": "markdown",
   "id": "b6e68171",
   "metadata": {},
   "source": [
    "### **Exploring the distibution of study hours feature variable for any outliers**"
   ]
  },
  {
   "cell_type": "code",
   "execution_count": 6,
   "id": "e4fb6415",
   "metadata": {},
   "outputs": [
    {
     "data": {
      "image/png": "[encoded data removed]",
      "text/plain": [
       "<Figure size 576x288 with 1 Axes>"
      ]
     },
     "metadata": {
      "needs_background": "light"
     },
     "output_type": "display_data"
    }
   ],
   "source": [
    "# Chart size\n",
    "fig, ax = plt.subplots(figsize=(8, 4))\n",
    "\n",
    "# Ploting a boxplot for the study hours variable\n",
    "plt.boxplot(df[\"Hours\"], vert=False)\n",
    "plt.xlabel(\"Study Hours\", fontsize=15)\n",
    "plt.title(\"Distribution of Study Hours\", fontsize=18)\n",
    "ax.tick_params(axis='both', labelsize=15)\n",
    "plt.show();"
   ]
  },
  {
   "cell_type": "markdown",
   "id": "a6af1306",
   "metadata": {},
   "source": [
    "**There is no outliers founded in the feature variable**"
   ]
  },
  {
   "cell_type": "markdown",
   "id": "1a101b95",
   "metadata": {},
   "source": [
    "### **Exploring the relation between the the target (Scores) & the Feature (Hours of study)**"
   ]
  },
  {
   "cell_type": "code",
   "execution_count": 7,
   "id": "cbca04d2",
   "metadata": {},
   "outputs": [
    {
     "data": {
      "image/png": "[encoded data removed]",
      "text/plain": [
       "<Figure size 576x432 with 1 Axes>"
      ]
     },
     "metadata": {},
     "output_type": "display_data"
    }
   ],
   "source": [
    "# Chart style and size\n",
    "plt.style.use(\"seaborn-darkgrid\")\n",
    "fig, ax = plt.subplots(figsize=(8, 6))\n",
    "\n",
    "# Ploting a scatter plot between the score as a function of study hours\n",
    "plt.scatter(x=df[\"Hours\"], y=df[\"Scores\"], s=50)\n",
    "plt.xlabel(\"Study Hours\", fontsize=15)\n",
    "plt.ylabel(\"Student Score\", fontsize=15)\n",
    "plt.title(\"Relation Between Student Score vs. Study Hours\", fontsize=18)\n",
    "ax.tick_params(axis='both', labelsize=15)\n",
    "plt.show();"
   ]
  },
  {
   "cell_type": "code",
   "execution_count": 8,
   "id": "e210fdd0",
   "metadata": {},
   "outputs": [
    {
     "data": {
      "text/plain": [
       "0.9761906560220887"
      ]
     },
     "execution_count": 8,
     "metadata": {},
     "output_type": "execute_result"
    }
   ],
   "source": [
    "# Checking the pearson correlation coefficient between the two variable\n",
    "df[\"Scores\"].corr(df[\"Hours\"])"
   ]
  },
  {
   "cell_type": "markdown",
   "id": "a15b0784",
   "metadata": {},
   "source": [
    "**There is a strong positive correlation between the study hours and the sudents score that we can predict the score based upon the hours of study** "
   ]
  },
  {
   "cell_type": "markdown",
   "id": "1e0c8de5",
   "metadata": {},
   "source": [
    "## 1.3 Split"
   ]
  },
  {
   "cell_type": "code",
   "execution_count": 9,
   "id": "d25b92d0",
   "metadata": {},
   "outputs": [],
   "source": [
    "# Splitting the data into feature matrix (X) and target vector (y)\n",
    "feature = [\"Hours\"]\n",
    "target = \"Scores\"\n",
    "X = df[feature]\n",
    "y = df[target]"
   ]
  },
  {
   "cell_type": "code",
   "execution_count": 10,
   "id": "4d66e521",
   "metadata": {},
   "outputs": [],
   "source": [
    "# Splitting the data into training and testing data set where the test set is 20% of the data\n",
    "X_train, X_test, y_train, y_test = train_test_split(X, y, test_size=0.2) "
   ]
  },
  {
   "cell_type": "markdown",
   "id": "d8a14367",
   "metadata": {},
   "source": [
    "# 2. Build Model"
   ]
  },
  {
   "cell_type": "markdown",
   "id": "516891ea",
   "metadata": {},
   "source": [
    "## 2.1 Iterate"
   ]
  },
  {
   "cell_type": "code",
   "execution_count": 11,
   "id": "d3c8437f",
   "metadata": {},
   "outputs": [
    {
     "data": {
      "text/html": [
       "<style>#sk-container-id-1 {color: black;background-color: white;}#sk-container-id-1 pre{padding: 0;}#sk-container-id-1 div.sk-toggleable {background-color: white;}#sk-container-id-1 label.sk-toggleable__label {cursor: pointer;display: block;width: 100%;margin-bottom: 0;padding: 0.3em;box-sizing: border-box;text-align: center;}#sk-container-id-1 label.sk-toggleable__label-arrow:before {content: \"▸\";float: left;margin-right: 0.25em;color: #696969;}#sk-container-id-1 label.sk-toggleable__label-arrow:hover:before {color: black;}#sk-container-id-1 div.sk-estimator:hover label.sk-toggleable__label-arrow:before {color: black;}#sk-container-id-1 div.sk-toggleable__content {max-height: 0;max-width: 0;overflow: hidden;text-align: left;background-color: #f0f8ff;}#sk-container-id-1 div.sk-toggleable__content pre {margin: 0.2em;color: black;border-radius: 0.25em;background-color: #f0f8ff;}#sk-container-id-1 input.sk-toggleable__control:checked~div.sk-toggleable__content {max-height: 200px;max-width: 100%;overflow: auto;}#sk-container-id-1 input.sk-toggleable__control:checked~label.sk-toggleable__label-arrow:before {content: \"▾\";}#sk-container-id-1 div.sk-estimator input.sk-toggleable__control:checked~label.sk-toggleable__label {background-color: #d4ebff;}#sk-container-id-1 div.sk-label input.sk-toggleable__control:checked~label.sk-toggleable__label {background-color: #d4ebff;}#sk-container-id-1 input.sk-hidden--visually {border: 0;clip: rect(1px 1px 1px 1px);clip: rect(1px, 1px, 1px, 1px);height: 1px;margin: -1px;overflow: hidden;padding: 0;position: absolute;width: 1px;}#sk-container-id-1 div.sk-estimator {font-family: monospace;background-color: #f0f8ff;border: 1px dotted black;border-radius: 0.25em;box-sizing: border-box;margin-bottom: 0.5em;}#sk-container-id-1 div.sk-estimator:hover {background-color: #d4ebff;}#sk-container-id-1 div.sk-parallel-item::after {content: \"\";width: 100%;border-bottom: 1px solid gray;flex-grow: 1;}#sk-container-id-1 div.sk-label:hover label.sk-toggleable__label {background-color: #d4ebff;}#sk-container-id-1 div.sk-serial::before {content: \"\";position: absolute;border-left: 1px solid gray;box-sizing: border-box;top: 0;bottom: 0;left: 50%;z-index: 0;}#sk-container-id-1 div.sk-serial {display: flex;flex-direction: column;align-items: center;background-color: white;padding-right: 0.2em;padding-left: 0.2em;position: relative;}#sk-container-id-1 div.sk-item {position: relative;z-index: 1;}#sk-container-id-1 div.sk-parallel {display: flex;align-items: stretch;justify-content: center;background-color: white;position: relative;}#sk-container-id-1 div.sk-item::before, #sk-container-id-1 div.sk-parallel-item::before {content: \"\";position: absolute;border-left: 1px solid gray;box-sizing: border-box;top: 0;bottom: 0;left: 50%;z-index: -1;}#sk-container-id-1 div.sk-parallel-item {display: flex;flex-direction: column;z-index: 1;position: relative;background-color: white;}#sk-container-id-1 div.sk-parallel-item:first-child::after {align-self: flex-end;width: 50%;}#sk-container-id-1 div.sk-parallel-item:last-child::after {align-self: flex-start;width: 50%;}#sk-container-id-1 div.sk-parallel-item:only-child::after {width: 0;}#sk-container-id-1 div.sk-dashed-wrapped {border: 1px dashed gray;margin: 0 0.4em 0.5em 0.4em;box-sizing: border-box;padding-bottom: 0.4em;background-color: white;}#sk-container-id-1 div.sk-label label {font-family: monospace;font-weight: bold;display: inline-block;line-height: 1.2em;}#sk-container-id-1 div.sk-label-container {text-align: center;}#sk-container-id-1 div.sk-container {/* jupyter's `normalize.less` sets `[hidden] { display: none; }` but bootstrap.min.css set `[hidden] { display: none !important; }` so we also need the `!important` here to be able to override the default hidden behavior on the sphinx rendered scikit-learn.org. See: https://github.com/scikit-learn/scikit-learn/issues/21755 */display: inline-block !important;position: relative;}#sk-container-id-1 div.sk-text-repr-fallback {display: none;}</style><div id=\"sk-container-id-1\" class=\"sk-top-container\"><div class=\"sk-text-repr-fallback\"><pre>LinearRegression()</pre><b>In a Jupyter environment, please rerun this cell to show the HTML representation or trust the notebook. <br />On GitHub, the HTML representation is unable to render, please try loading this page with nbviewer.org.</b></div><div class=\"sk-container\" hidden><div class=\"sk-item\"><div class=\"sk-estimator sk-toggleable\"><input class=\"sk-toggleable__control sk-hidden--visually\" id=\"sk-estimator-id-1\" type=\"checkbox\" checked><label for=\"sk-estimator-id-1\" class=\"sk-toggleable__label sk-toggleable__label-arrow\">LinearRegression</label><div class=\"sk-toggleable__content\"><pre>LinearRegression()</pre></div></div></div></div></div>"
      ],
      "text/plain": [
       "LinearRegression()"
      ]
     },
     "execution_count": 11,
     "metadata": {},
     "output_type": "execute_result"
    }
   ],
   "source": [
    "# Instantiate  LinearRegression model\n",
    "model = LinearRegression()\n",
    "# Fitting the trainning data set \n",
    "model.fit(X_train, y_train)"
   ]
  },
  {
   "cell_type": "markdown",
   "id": "3475f0e1",
   "metadata": {},
   "source": [
    "## 2.2 Evaluate"
   ]
  },
  {
   "cell_type": "code",
   "execution_count": 12,
   "id": "ec0f28bf",
   "metadata": {},
   "outputs": [
    {
     "data": {
      "text/plain": [
       "5.07"
      ]
     },
     "execution_count": 12,
     "metadata": {},
     "output_type": "execute_result"
    }
   ],
   "source": [
    "# Checking the mean absolute error for the prediction of the testing data set\n",
    "round(metrics.mean_absolute_error(y_test, model.predict(X_test)), 2)"
   ]
  },
  {
   "cell_type": "markdown",
   "id": "ee7261eb",
   "metadata": {},
   "source": [
    "**The mean absolute error for our model is 5.07 which means that the average error between the actual values and the predicted values is 5.07 student score error** "
   ]
  },
  {
   "cell_type": "markdown",
   "id": "fdc4439f",
   "metadata": {},
   "source": [
    "# 3. Communicate Results"
   ]
  },
  {
   "cell_type": "markdown",
   "id": "8c07912b",
   "metadata": {},
   "source": [
    "### **The equation of the model for predicting the student score**"
   ]
  },
  {
   "cell_type": "code",
   "execution_count": 13,
   "id": "64faff4a",
   "metadata": {},
   "outputs": [
    {
     "name": "stdout",
     "output_type": "stream",
     "text": [
      "Score = 2.52 + 9.86*Hour\n"
     ]
    }
   ],
   "source": [
    "intercept = round(model.intercept_, 2)\n",
    "coefficient = round(model.coef_[0], 2)\n",
    "print(f\"Score = {intercept} + {coefficient}*Hour\")"
   ]
  },
  {
   "cell_type": "markdown",
   "id": "e77b2227",
   "metadata": {},
   "source": [
    "### **The relation between the actual values and the predicted values from the LinearRegression model**"
   ]
  },
  {
   "cell_type": "code",
   "execution_count": 14,
   "id": "0b3c3278",
   "metadata": {},
   "outputs": [
    {
     "data": {
      "image/png": "[encoded data removed]",
      "text/plain": [
       "<Figure size 576x432 with 1 Axes>"
      ]
     },
     "metadata": {},
     "output_type": "display_data"
    }
   ],
   "source": [
    "# The predicted score values \n",
    "line = intercept + (X.values*coefficient)\n",
    "\n",
    "# Chart size\n",
    "fig, ax = plt.subplots(figsize=(8, 6))\n",
    "\n",
    "# plotting the fitted line from the model along with the scatter plot between the two variable\n",
    "plt.plot(X.values, line, color=\"r\", label=\"Linear Model\")\n",
    "plt.scatter(x=df[\"Hours\"], y=df[\"Scores\"], s=50)\n",
    "plt.xlabel(\"Study Hours\", fontsize=15)\n",
    "plt.ylabel(\"Student Score\", fontsize=15)\n",
    "plt.title(\"Student Score vs. Study Hours LinearRegression model performance\", fontsize=18)\n",
    "ax.tick_params(axis='both', labelsize=15)\n",
    "plt.legend(fontsize=13);"
   ]
  },
  {
   "cell_type": "markdown",
   "id": "b415a28c",
   "metadata": {},
   "source": [
    "# 4. Predicting student score if student studied 9.25 hours/day"
   ]
  },
  {
   "cell_type": "code",
   "execution_count": 15,
   "id": "7e336b49",
   "metadata": {},
   "outputs": [
    {
     "name": "stdout",
     "output_type": "stream",
     "text": [
      "number of studied hours = 9.25\n",
      "Predicted Score = 93.73810019581069\n"
     ]
    }
   ],
   "source": [
    "# predicting the score at 9.25 hours study/day\n",
    "hours = pd.DataFrame({\"Hours\": [9.25]})\n",
    "pred_score = model.predict(hours)\n",
    "print(\"number of studied hours = {}\".format(hours[\"Hours\"].values[0]))\n",
    "print(\"Predicted Score = {}\".format(pred_score[0]))"
   ]
  }
 ],
 "metadata": {
  "kernelspec": {
   "display_name": "Python 3",
   "language": "python",
   "name": "python3"
  },
  "language_info": {
   "codemirror_mode": {
    "name": "ipython",
    "version": 3
   },
   "file_extension": ".py",
   "mimetype": "text/x-python",
   "name": "python",
   "nbconvert_exporter": "python",
   "pygments_lexer": "ipython3",
   "version": "3.8.5"
  }
 },
 "nbformat": 4,
 "nbformat_minor": 5
}
